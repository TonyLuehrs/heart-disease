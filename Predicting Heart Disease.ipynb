{
 "cells": [
  {
   "cell_type": "markdown",
   "id": "82d4e7f8",
   "metadata": {},
   "source": [
    "# Predicting Heart Disease\n",
    "\n",
    "In this notebook we will explore a dataset detailing health information from patients at a hospital.  Our goal will be to predict whether or not they are at risk of heart disease."
   ]
  },
  {
   "cell_type": "markdown",
   "id": "bcbc24ce",
   "metadata": {},
   "source": [
    "### Table of Contents\n",
    "\n",
    "1. [**Column Descriptions**](#columns)\n",
    "2. [**Importing Libraries**](#libraries)\n",
    "3. [**Preprocessing**](#preprocessing)\n",
    "  1. Standardize column names and value names to snake_case\n",
    "  2. Check for nans\n",
    "  3. Check for duplicates\n",
    "  4. Categorical columns: check distribution, get dummies\n",
    "  5. Numerical columns: check for any weird/obviously wrong values/outliers\n",
    "4. [**Feature Selection**](#featsel)\n",
    "  1. Check for highly correlated features\n",
    "  2. Use a tuned Random Forest Classifier to select features\n",
    "5. [**Training and Testing**](#traintest)\n",
    "6. [**Comparing Results, Stacked Ensemble**](#stacked)"
   ]
  },
  {
   "cell_type": "markdown",
   "id": "370fd91c",
   "metadata": {},
   "source": [
    "<a class=\"anchor\" id=\"columns\"></a>\n",
    "\n",
    "# Column Descriptions\n",
    "\n",
    "This dataset consists of 11 predictive columns and 1 target column.  They are as follows:\n",
    "\n",
    "**Age** - Patient's age (numeric, integer)\n",
    "\n",
    "**Sex** - Patient's gender (categorical, M or F)\n",
    "\n",
    "**ChestPainType** - Type of chest pain experienced by the patient (categorical, [1, 2, 3, 4])  \n",
    "*Values: 1 - typical angina, 2 - atypical angina, 3 - non-anginal pain, 4 - asymptomatic (Nominal)*\n",
    "\n",
    "**RestingBP** - Patient's resting blood pressure in mmHg (numeric, integer)\n",
    "\n",
    "**Cholesterol** - Patient's cholesterol level in mg/dl (numeric, integer)\n",
    "\n",
    "**FastingBS** - Does the patient have blood sugar > 120mg/dl after fasting (categorical, 0 or 1)\n",
    "\n",
    "**RestingECG** - Results of an electrocardiogram while at rest  \n",
    "*Values: 0 - Normal, 1 - Abnormality in ST-T wave,  2 - Left ventricular hypertrophy (Nominal)*\n",
    "\n",
    "**MaxHR** - Maximum heart rate observed in patient (numeric, integer)\n",
    "\n",
    "**ExerciseAngina** - Was angina exercise-induced? (categorical, 0 or 1)\n",
    "\n",
    "**Oldpeak** - Exercise induced ST-depression as compared with being at a state of rest (numeric, float)\n",
    "\n",
    "**ST_Slope** - ST segment slope during peak exercise (categorical, [0, 1, 2, 3])  \n",
    "*Values: 0 - Normal, 1 - Upsloping, 2 - Flat, 3 - Downsloping (Nominal)*\n",
    "\n",
    "**HeartDisease (Target column)** - Is the patient at risk of heart disease? (categorical, 0 or 1)\n"
   ]
  },
  {
   "cell_type": "markdown",
   "id": "fcdb97d1",
   "metadata": {},
   "source": [
    "<a class=\"anchor\" id=\"libraries\"></a>\n",
    "## Importing Libraries"
   ]
  },
  {
   "cell_type": "code",
   "execution_count": 2,
   "id": "654d91fd",
   "metadata": {
    "scrolled": true
   },
   "outputs": [],
   "source": [
    "import numpy as np\n",
    "import pandas as pd\n",
    "import matplotlib.pyplot as plt\n",
    "import seaborn as sns\n",
    "\n",
    "import statsmodels.api as sm\n",
    "\n",
    "from sklearn.feature_selection import RFECV\n",
    "\n",
    "from scipy.stats import zscore\n",
    "from sklearn.model_selection import train_test_split, GridSearchCV, KFold\n",
    "from sklearn.preprocessing import StandardScaler\n",
    "from sklearn.pipeline import Pipeline\n",
    "from sklearn import metrics\n",
    "\n",
    "from sklearn.discriminant_analysis import LinearDiscriminantAnalysis, QuadraticDiscriminantAnalysis\n",
    "from sklearn.ensemble import AdaBoostClassifier, BaggingClassifier, ExtraTreesClassifier, GradientBoostingClassifier, RandomForestClassifier\n",
    "from sklearn.linear_model import LogisticRegression, RidgeClassifier, SGDClassifier\n",
    "from sklearn.naive_bayes import BernoulliNB, GaussianNB\n",
    "from sklearn.neighbors import KNeighborsClassifier\n",
    "from sklearn.neural_network import MLPClassifier\n",
    "from sklearn.svm import LinearSVC, NuSVC, SVC\n",
    "from sklearn.tree import DecisionTreeClassifier, ExtraTreeClassifier\n",
    "\n",
    "# this is a my own .py file, not a publicly available library\n",
    "from classification_ensemble import get_feature_importances, train_test_all_classifiers"
   ]
  },
  {
   "cell_type": "code",
   "execution_count": 3,
   "id": "eda43bda",
   "metadata": {
    "scrolled": true
   },
   "outputs": [
    {
     "data": {
      "text/html": [
       "<div>\n",
       "<style scoped>\n",
       "    .dataframe tbody tr th:only-of-type {\n",
       "        vertical-align: middle;\n",
       "    }\n",
       "\n",
       "    .dataframe tbody tr th {\n",
       "        vertical-align: top;\n",
       "    }\n",
       "\n",
       "    .dataframe thead th {\n",
       "        text-align: right;\n",
       "    }\n",
       "</style>\n",
       "<table border=\"1\" class=\"dataframe\">\n",
       "  <thead>\n",
       "    <tr style=\"text-align: right;\">\n",
       "      <th></th>\n",
       "      <th>Age</th>\n",
       "      <th>Sex</th>\n",
       "      <th>ChestPainType</th>\n",
       "      <th>RestingBP</th>\n",
       "      <th>Cholesterol</th>\n",
       "      <th>FastingBS</th>\n",
       "      <th>RestingECG</th>\n",
       "      <th>MaxHR</th>\n",
       "      <th>ExerciseAngina</th>\n",
       "      <th>Oldpeak</th>\n",
       "      <th>ST_Slope</th>\n",
       "      <th>HeartDisease</th>\n",
       "    </tr>\n",
       "  </thead>\n",
       "  <tbody>\n",
       "    <tr>\n",
       "      <th>0</th>\n",
       "      <td>40</td>\n",
       "      <td>M</td>\n",
       "      <td>ATA</td>\n",
       "      <td>140</td>\n",
       "      <td>289</td>\n",
       "      <td>0</td>\n",
       "      <td>Normal</td>\n",
       "      <td>172</td>\n",
       "      <td>N</td>\n",
       "      <td>0.0</td>\n",
       "      <td>Up</td>\n",
       "      <td>0</td>\n",
       "    </tr>\n",
       "    <tr>\n",
       "      <th>1</th>\n",
       "      <td>49</td>\n",
       "      <td>F</td>\n",
       "      <td>NAP</td>\n",
       "      <td>160</td>\n",
       "      <td>180</td>\n",
       "      <td>0</td>\n",
       "      <td>Normal</td>\n",
       "      <td>156</td>\n",
       "      <td>N</td>\n",
       "      <td>1.0</td>\n",
       "      <td>Flat</td>\n",
       "      <td>1</td>\n",
       "    </tr>\n",
       "    <tr>\n",
       "      <th>2</th>\n",
       "      <td>37</td>\n",
       "      <td>M</td>\n",
       "      <td>ATA</td>\n",
       "      <td>130</td>\n",
       "      <td>283</td>\n",
       "      <td>0</td>\n",
       "      <td>ST</td>\n",
       "      <td>98</td>\n",
       "      <td>N</td>\n",
       "      <td>0.0</td>\n",
       "      <td>Up</td>\n",
       "      <td>0</td>\n",
       "    </tr>\n",
       "    <tr>\n",
       "      <th>3</th>\n",
       "      <td>48</td>\n",
       "      <td>F</td>\n",
       "      <td>ASY</td>\n",
       "      <td>138</td>\n",
       "      <td>214</td>\n",
       "      <td>0</td>\n",
       "      <td>Normal</td>\n",
       "      <td>108</td>\n",
       "      <td>Y</td>\n",
       "      <td>1.5</td>\n",
       "      <td>Flat</td>\n",
       "      <td>1</td>\n",
       "    </tr>\n",
       "    <tr>\n",
       "      <th>4</th>\n",
       "      <td>54</td>\n",
       "      <td>M</td>\n",
       "      <td>NAP</td>\n",
       "      <td>150</td>\n",
       "      <td>195</td>\n",
       "      <td>0</td>\n",
       "      <td>Normal</td>\n",
       "      <td>122</td>\n",
       "      <td>N</td>\n",
       "      <td>0.0</td>\n",
       "      <td>Up</td>\n",
       "      <td>0</td>\n",
       "    </tr>\n",
       "  </tbody>\n",
       "</table>\n",
       "</div>"
      ],
      "text/plain": [
       "   Age Sex ChestPainType  RestingBP  Cholesterol  FastingBS RestingECG  MaxHR  \\\n",
       "0   40   M           ATA        140          289          0     Normal    172   \n",
       "1   49   F           NAP        160          180          0     Normal    156   \n",
       "2   37   M           ATA        130          283          0         ST     98   \n",
       "3   48   F           ASY        138          214          0     Normal    108   \n",
       "4   54   M           NAP        150          195          0     Normal    122   \n",
       "\n",
       "  ExerciseAngina  Oldpeak ST_Slope  HeartDisease  \n",
       "0              N      0.0       Up             0  \n",
       "1              N      1.0     Flat             1  \n",
       "2              N      0.0       Up             0  \n",
       "3              Y      1.5     Flat             1  \n",
       "4              N      0.0       Up             0  "
      ]
     },
     "execution_count": 3,
     "metadata": {},
     "output_type": "execute_result"
    }
   ],
   "source": [
    "heart = pd.read_csv('heart.csv')\n",
    "heart.head()"
   ]
  },
  {
   "cell_type": "code",
   "execution_count": 6,
   "id": "77dc7523",
   "metadata": {
    "scrolled": true
   },
   "outputs": [
    {
     "data": {
      "text/plain": [
       "(918, 12)"
      ]
     },
     "execution_count": 6,
     "metadata": {},
     "output_type": "execute_result"
    }
   ],
   "source": [
    "heart.shape"
   ]
  },
  {
   "cell_type": "code",
   "execution_count": 7,
   "id": "66a48132",
   "metadata": {
    "scrolled": true
   },
   "outputs": [
    {
     "name": "stdout",
     "output_type": "stream",
     "text": [
      "<class 'pandas.core.frame.DataFrame'>\n",
      "RangeIndex: 918 entries, 0 to 917\n",
      "Data columns (total 12 columns):\n",
      " #   Column          Non-Null Count  Dtype  \n",
      "---  ------          --------------  -----  \n",
      " 0   Age             918 non-null    int64  \n",
      " 1   Sex             918 non-null    object \n",
      " 2   ChestPainType   918 non-null    object \n",
      " 3   RestingBP       918 non-null    int64  \n",
      " 4   Cholesterol     918 non-null    int64  \n",
      " 5   FastingBS       918 non-null    int64  \n",
      " 6   RestingECG      918 non-null    object \n",
      " 7   MaxHR           918 non-null    int64  \n",
      " 8   ExerciseAngina  918 non-null    object \n",
      " 9   Oldpeak         918 non-null    float64\n",
      " 10  ST_Slope        918 non-null    object \n",
      " 11  HeartDisease    918 non-null    int64  \n",
      "dtypes: float64(1), int64(6), object(5)\n",
      "memory usage: 86.2+ KB\n"
     ]
    }
   ],
   "source": [
    "heart.info()"
   ]
  },
  {
   "cell_type": "markdown",
   "id": "2dafc8b2",
   "metadata": {},
   "source": [
    "<a class=\"anchor\" id=\"preprocessing\"></a>\n",
    "#  Preprocessing\n",
    "\n",
    "1. Standardize column names and value names to snake_case\n",
    "2. Check for nans \n",
    "3. Check for duplicates\n",
    "4. Categorical columns: check distribution, get dummies\n",
    "5. Numeric columns: check for any suspicious values and outliers\n",
    "\n",
    "*(min-max scaling will occur in training/testing)*"
   ]
  },
  {
   "cell_type": "markdown",
   "id": "ab686a12",
   "metadata": {},
   "source": [
    "### 1 - Standardize column names and value names to snake_case"
   ]
  },
  {
   "cell_type": "code",
   "execution_count": 8,
   "id": "9d208b4b",
   "metadata": {
    "scrolled": true
   },
   "outputs": [],
   "source": [
    "# change column names\n",
    "columns = ['age', 'sex', 'chest_pain_type', 'resting_bp', 'cholesterol', 'fasting_bs', 'resting_ecg', 'max_hr',\n",
    "          'exercise_angina', 'oldpeak', 'st_slope', 'heart_disease']\n",
    "heart.columns = columns\n",
    "\n",
    "# change values in categorical columns\n",
    "\n",
    "# Values: M - male, F - female\n",
    "heart['sex'] = heart['sex'].replace({'M': 'male', \n",
    "                                     'F': 'female'})\n",
    "\n",
    "# Values: typical angina, atypical angina, non-anginal pain, asymptomatic (Nominal)\n",
    "heart['chest_pain_type'] = heart['chest_pain_type'].replace({'TA': 'typical_angina',\n",
    "                                                             'ATA': 'atypical_angina',\n",
    "                                                             'NAP': 'non_anginal_pain',\n",
    "                                                             'ASY': 'asymptomatic'})\n",
    "\n",
    "# Values: Normal, Abnormality in ST-T wave, Left ventricular hypertrophy (Nominal)\n",
    "heart['resting_ecg'] = heart['resting_ecg'].replace({'Normal': 'normal',\n",
    "                                                     'ST': 'abnormal_stt_wave',\n",
    "                                                     'LVH': 'left_vent_hypertrophy'})\n",
    "\n",
    "# Values: Y, N\n",
    "heart['exercise_angina'] = heart['exercise_angina'].replace({'Y': 'yes',\n",
    "                                                             'N': 'no'})\n",
    "\n",
    "# Values: Upsloping, Flat, Downsloping (Nominal)\n",
    "heart['st_slope'] = heart['st_slope'].replace({'Flat': 'flat',\n",
    "                                               'Up': 'up',\n",
    "                                               'Down': 'down'})"
   ]
  },
  {
   "cell_type": "code",
   "execution_count": 9,
   "id": "8c6286da",
   "metadata": {
    "scrolled": true
   },
   "outputs": [
    {
     "data": {
      "text/html": [
       "<div>\n",
       "<style scoped>\n",
       "    .dataframe tbody tr th:only-of-type {\n",
       "        vertical-align: middle;\n",
       "    }\n",
       "\n",
       "    .dataframe tbody tr th {\n",
       "        vertical-align: top;\n",
       "    }\n",
       "\n",
       "    .dataframe thead th {\n",
       "        text-align: right;\n",
       "    }\n",
       "</style>\n",
       "<table border=\"1\" class=\"dataframe\">\n",
       "  <thead>\n",
       "    <tr style=\"text-align: right;\">\n",
       "      <th></th>\n",
       "      <th>age</th>\n",
       "      <th>sex</th>\n",
       "      <th>chest_pain_type</th>\n",
       "      <th>resting_bp</th>\n",
       "      <th>cholesterol</th>\n",
       "      <th>fasting_bs</th>\n",
       "      <th>resting_ecg</th>\n",
       "      <th>max_hr</th>\n",
       "      <th>exercise_angina</th>\n",
       "      <th>oldpeak</th>\n",
       "      <th>st_slope</th>\n",
       "      <th>heart_disease</th>\n",
       "    </tr>\n",
       "  </thead>\n",
       "  <tbody>\n",
       "    <tr>\n",
       "      <th>0</th>\n",
       "      <td>40</td>\n",
       "      <td>male</td>\n",
       "      <td>atypical_angina</td>\n",
       "      <td>140</td>\n",
       "      <td>289</td>\n",
       "      <td>0</td>\n",
       "      <td>normal</td>\n",
       "      <td>172</td>\n",
       "      <td>no</td>\n",
       "      <td>0.0</td>\n",
       "      <td>up</td>\n",
       "      <td>0</td>\n",
       "    </tr>\n",
       "    <tr>\n",
       "      <th>1</th>\n",
       "      <td>49</td>\n",
       "      <td>female</td>\n",
       "      <td>non_anginal_pain</td>\n",
       "      <td>160</td>\n",
       "      <td>180</td>\n",
       "      <td>0</td>\n",
       "      <td>normal</td>\n",
       "      <td>156</td>\n",
       "      <td>no</td>\n",
       "      <td>1.0</td>\n",
       "      <td>flat</td>\n",
       "      <td>1</td>\n",
       "    </tr>\n",
       "    <tr>\n",
       "      <th>2</th>\n",
       "      <td>37</td>\n",
       "      <td>male</td>\n",
       "      <td>atypical_angina</td>\n",
       "      <td>130</td>\n",
       "      <td>283</td>\n",
       "      <td>0</td>\n",
       "      <td>abnormal_stt_wave</td>\n",
       "      <td>98</td>\n",
       "      <td>no</td>\n",
       "      <td>0.0</td>\n",
       "      <td>up</td>\n",
       "      <td>0</td>\n",
       "    </tr>\n",
       "    <tr>\n",
       "      <th>3</th>\n",
       "      <td>48</td>\n",
       "      <td>female</td>\n",
       "      <td>asymptomatic</td>\n",
       "      <td>138</td>\n",
       "      <td>214</td>\n",
       "      <td>0</td>\n",
       "      <td>normal</td>\n",
       "      <td>108</td>\n",
       "      <td>yes</td>\n",
       "      <td>1.5</td>\n",
       "      <td>flat</td>\n",
       "      <td>1</td>\n",
       "    </tr>\n",
       "    <tr>\n",
       "      <th>4</th>\n",
       "      <td>54</td>\n",
       "      <td>male</td>\n",
       "      <td>non_anginal_pain</td>\n",
       "      <td>150</td>\n",
       "      <td>195</td>\n",
       "      <td>0</td>\n",
       "      <td>normal</td>\n",
       "      <td>122</td>\n",
       "      <td>no</td>\n",
       "      <td>0.0</td>\n",
       "      <td>up</td>\n",
       "      <td>0</td>\n",
       "    </tr>\n",
       "  </tbody>\n",
       "</table>\n",
       "</div>"
      ],
      "text/plain": [
       "   age     sex   chest_pain_type  resting_bp  cholesterol  fasting_bs  \\\n",
       "0   40    male   atypical_angina         140          289           0   \n",
       "1   49  female  non_anginal_pain         160          180           0   \n",
       "2   37    male   atypical_angina         130          283           0   \n",
       "3   48  female      asymptomatic         138          214           0   \n",
       "4   54    male  non_anginal_pain         150          195           0   \n",
       "\n",
       "         resting_ecg  max_hr exercise_angina  oldpeak st_slope  heart_disease  \n",
       "0             normal     172              no      0.0       up              0  \n",
       "1             normal     156              no      1.0     flat              1  \n",
       "2  abnormal_stt_wave      98              no      0.0       up              0  \n",
       "3             normal     108             yes      1.5     flat              1  \n",
       "4             normal     122              no      0.0       up              0  "
      ]
     },
     "execution_count": 9,
     "metadata": {},
     "output_type": "execute_result"
    }
   ],
   "source": [
    "heart.head()"
   ]
  },
  {
   "cell_type": "markdown",
   "id": "7a3e6f82",
   "metadata": {},
   "source": [
    "### 2 - Check for missing values"
   ]
  },
  {
   "cell_type": "code",
   "execution_count": 10,
   "id": "64dddbe7",
   "metadata": {
    "scrolled": true
   },
   "outputs": [
    {
     "data": {
      "text/plain": [
       "age                0\n",
       "sex                0\n",
       "chest_pain_type    0\n",
       "resting_bp         0\n",
       "cholesterol        0\n",
       "fasting_bs         0\n",
       "resting_ecg        0\n",
       "max_hr             0\n",
       "exercise_angina    0\n",
       "oldpeak            0\n",
       "st_slope           0\n",
       "heart_disease      0\n",
       "dtype: int64"
      ]
     },
     "execution_count": 10,
     "metadata": {},
     "output_type": "execute_result"
    }
   ],
   "source": [
    "heart.isnull().sum()"
   ]
  },
  {
   "cell_type": "markdown",
   "id": "46776e96",
   "metadata": {},
   "source": [
    "No missing values, how convenient."
   ]
  },
  {
   "cell_type": "markdown",
   "id": "ac714b29",
   "metadata": {},
   "source": [
    "### 3 - Check for duplicates"
   ]
  },
  {
   "cell_type": "code",
   "execution_count": 11,
   "id": "7fd0868a",
   "metadata": {
    "scrolled": true
   },
   "outputs": [
    {
     "data": {
      "text/plain": [
       "0"
      ]
     },
     "execution_count": 11,
     "metadata": {},
     "output_type": "execute_result"
    }
   ],
   "source": [
    "heart.duplicated().sum()"
   ]
  },
  {
   "cell_type": "markdown",
   "id": "2112a60a",
   "metadata": {},
   "source": [
    "No duplicate rows."
   ]
  },
  {
   "cell_type": "markdown",
   "id": "ba70e8fa",
   "metadata": {},
   "source": [
    "### 4 - Categorical columns - check distributions relative to target, get dummies"
   ]
  },
  {
   "cell_type": "code",
   "execution_count": 12,
   "id": "d6e60bbc",
   "metadata": {
    "scrolled": false
   },
   "outputs": [
    {
     "name": "stdout",
     "output_type": "stream",
     "text": [
      "sex\n",
      "\n",
      "male      725\n",
      "female    193\n",
      "Name: sex, dtype: int64\n",
      "\n",
      "heart_disease         0         1\n",
      "sex                              \n",
      "female         0.155773  0.054466\n",
      "male           0.290850  0.498911\n"
     ]
    },
    {
     "data": {
      "image/png": "[encoded data removed]",
      "text/plain": [
       "<Figure size 432x288 with 1 Axes>"
      ]
     },
     "metadata": {
      "needs_background": "light"
     },
     "output_type": "display_data"
    },
    {
     "name": "stdout",
     "output_type": "stream",
     "text": [
      "\n",
      "\n",
      "chest_pain_type\n",
      "\n",
      "asymptomatic        496\n",
      "non_anginal_pain    203\n",
      "atypical_angina     173\n",
      "typical_angina       46\n",
      "Name: chest_pain_type, dtype: int64\n",
      "\n",
      "heart_disease            0         1\n",
      "chest_pain_type                     \n",
      "asymptomatic      0.113290  0.427015\n",
      "atypical_angina   0.162309  0.026144\n",
      "non_anginal_pain  0.142702  0.078431\n",
      "typical_angina    0.028322  0.021786\n"
     ]
    },
    {
     "data": {
      "image/png": "[encoded data removed]",
      "text/plain": [
       "<Figure size 432x288 with 1 Axes>"
      ]
     },
     "metadata": {
      "needs_background": "light"
     },
     "output_type": "display_data"
    },
    {
     "name": "stdout",
     "output_type": "stream",
     "text": [
      "\n",
      "\n",
      "fasting_bs\n",
      "\n",
      "0    704\n",
      "1    214\n",
      "Name: fasting_bs, dtype: int64\n",
      "\n",
      "heart_disease         0         1\n",
      "fasting_bs                       \n",
      "0              0.398693  0.368192\n",
      "1              0.047930  0.185185\n"
     ]
    },
    {
     "data": {
      "image/png": "[encoded data removed]",
      "text/plain": [
       "<Figure size 432x288 with 1 Axes>"
      ]
     },
     "metadata": {
      "needs_background": "light"
     },
     "output_type": "display_data"
    },
    {
     "name": "stdout",
     "output_type": "stream",
     "text": [
      "\n",
      "\n",
      "resting_ecg\n",
      "\n",
      "normal                   552\n",
      "left_vent_hypertrophy    188\n",
      "abnormal_stt_wave        178\n",
      "Name: resting_ecg, dtype: int64\n",
      "\n",
      "heart_disease                 0         1\n",
      "resting_ecg                              \n",
      "abnormal_stt_wave      0.066449  0.127451\n",
      "left_vent_hypertrophy  0.089325  0.115468\n",
      "normal                 0.290850  0.310458\n"
     ]
    },
    {
     "data": {
      "image/png": "[encoded data removed]",
      "text/plain": [
       "<Figure size 432x288 with 1 Axes>"
      ]
     },
     "metadata": {
      "needs_background": "light"
     },
     "output_type": "display_data"
    },
    {
     "name": "stdout",
     "output_type": "stream",
     "text": [
      "\n",
      "\n",
      "exercise_angina\n",
      "\n",
      "no     547\n",
      "yes    371\n",
      "Name: exercise_angina, dtype: int64\n",
      "\n",
      "heart_disease           0         1\n",
      "exercise_angina                    \n",
      "no               0.386710  0.209150\n",
      "yes              0.059913  0.344227\n"
     ]
    },
    {
     "data": {
      "image/png": "[encoded data removed]",
      "text/plain": [
       "<Figure size 432x288 with 1 Axes>"
      ]
     },
     "metadata": {
      "needs_background": "light"
     },
     "output_type": "display_data"
    },
    {
     "name": "stdout",
     "output_type": "stream",
     "text": [
      "\n",
      "\n",
      "st_slope\n",
      "\n",
      "flat    460\n",
      "up      395\n",
      "down     63\n",
      "Name: st_slope, dtype: int64\n",
      "\n",
      "heart_disease         0         1\n",
      "st_slope                         \n",
      "down           0.015251  0.053377\n",
      "flat           0.086057  0.415033\n",
      "up             0.345316  0.084967\n"
     ]
    },
    {
     "data": {
      "image/png": "[encoded data removed]",
      "text/plain": [
       "<Figure size 432x288 with 1 Axes>"
      ]
     },
     "metadata": {
      "needs_background": "light"
     },
     "output_type": "display_data"
    },
    {
     "name": "stdout",
     "output_type": "stream",
     "text": [
      "\n",
      "\n"
     ]
    }
   ],
   "source": [
    "cat_cols = ['sex', 'chest_pain_type', 'fasting_bs', 'resting_ecg', 'exercise_angina', 'st_slope']\n",
    "\n",
    "for col in cat_cols:\n",
    "    print(col)\n",
    "    print()\n",
    "    print(heart[col].value_counts())\n",
    "    print()\n",
    "    print(pd.crosstab(heart[col], heart['heart_disease']) / len(heart))\n",
    "    heart.groupby('heart_disease')[col].value_counts().unstack().plot.bar()\n",
    "    plt.show()\n",
    "    print('\\n')"
   ]
  },
  {
   "cell_type": "markdown",
   "id": "22881160",
   "metadata": {},
   "source": [
    "### *Summary of distributions of values for categorical columns*\n",
    "\n",
    "**sex** - this dataset contains many more males than females, and males seem to be significantly more likely to have heart disease than females.\n",
    "\n",
    "**chest_pain_type** - a large majority of patients with heart disease experience no chest pain (are asymptomatic)\n",
    "\n",
    "**resting_ecg** - distributions are approximately equal between those with and without heart disease; about 60% of all patients are 'normal'\n",
    "\n",
    "**fasting_bs** - patients are about 4x as likely to have high fasting blood sugar if they have heart disease than if they don't have heart disease\n",
    "\n",
    "**exercise_angina** - for those without heart disease, approx. 1 out of 7 patients had angina that was exercise induced, but for those with heart disease, approx. 5 out of 8 patients had angina that was exercise induced\n",
    "\n",
    "**st_slope** - for those without heart disease, most patients have up-sloping ST segments, but for those with heart disease, most patients have flat-sloping ST segments  \n",
    "\n",
    "___\n",
    "\n",
    "All of these columns have only a few unique values (most unique values for a column is 'chest_pain_type' with 4), and each unique value in each column has at least moderate representation (rarest value in the data set is a 'chest_pain_type' of 'typical_angina' at about 5% of all patients). \n",
    "\n",
    "Consequently, we can make dummy variables for all of these columns."
   ]
  },
  {
   "cell_type": "code",
   "execution_count": 14,
   "id": "b45281e5",
   "metadata": {
    "scrolled": true
   },
   "outputs": [
    {
     "data": {
      "text/plain": [
       "Index(['fasting_bs', 'sex_female', 'sex_male', 'chest_pain_type_asymptomatic',\n",
       "       'chest_pain_type_atypical_angina', 'chest_pain_type_non_anginal_pain',\n",
       "       'chest_pain_type_typical_angina', 'resting_ecg_abnormal_stt_wave',\n",
       "       'resting_ecg_left_vent_hypertrophy', 'resting_ecg_normal',\n",
       "       'exercise_angina_no', 'exercise_angina_yes', 'st_slope_down',\n",
       "       'st_slope_flat', 'st_slope_up'],\n",
       "      dtype='object')"
      ]
     },
     "execution_count": 14,
     "metadata": {},
     "output_type": "execute_result"
    }
   ],
   "source": [
    "cat_dummies = pd.get_dummies(heart[cat_cols])\n",
    "cat_dummies.columns"
   ]
  },
  {
   "cell_type": "code",
   "execution_count": 15,
   "id": "bf2bb4eb",
   "metadata": {
    "scrolled": true
   },
   "outputs": [
    {
     "data": {
      "text/html": [
       "<div>\n",
       "<style scoped>\n",
       "    .dataframe tbody tr th:only-of-type {\n",
       "        vertical-align: middle;\n",
       "    }\n",
       "\n",
       "    .dataframe tbody tr th {\n",
       "        vertical-align: top;\n",
       "    }\n",
       "\n",
       "    .dataframe thead th {\n",
       "        text-align: right;\n",
       "    }\n",
       "</style>\n",
       "<table border=\"1\" class=\"dataframe\">\n",
       "  <thead>\n",
       "    <tr style=\"text-align: right;\">\n",
       "      <th></th>\n",
       "      <th>age</th>\n",
       "      <th>resting_bp</th>\n",
       "      <th>cholesterol</th>\n",
       "      <th>max_hr</th>\n",
       "      <th>oldpeak</th>\n",
       "      <th>heart_disease</th>\n",
       "      <th>fasting_bs</th>\n",
       "      <th>sex_male</th>\n",
       "      <th>chest_pain_type_asymptomatic</th>\n",
       "      <th>chest_pain_type_atypical_angina</th>\n",
       "      <th>chest_pain_type_non_anginal_pain</th>\n",
       "      <th>chest_pain_type_typical_angina</th>\n",
       "      <th>resting_ecg_abnormal_stt_wave</th>\n",
       "      <th>resting_ecg_left_vent_hypertrophy</th>\n",
       "      <th>resting_ecg_normal</th>\n",
       "      <th>exercise_angina_yes</th>\n",
       "      <th>st_slope_down</th>\n",
       "      <th>st_slope_flat</th>\n",
       "      <th>st_slope_up</th>\n",
       "    </tr>\n",
       "  </thead>\n",
       "  <tbody>\n",
       "    <tr>\n",
       "      <th>0</th>\n",
       "      <td>40</td>\n",
       "      <td>140</td>\n",
       "      <td>289</td>\n",
       "      <td>172</td>\n",
       "      <td>0.0</td>\n",
       "      <td>0</td>\n",
       "      <td>0</td>\n",
       "      <td>1</td>\n",
       "      <td>0</td>\n",
       "      <td>1</td>\n",
       "      <td>0</td>\n",
       "      <td>0</td>\n",
       "      <td>0</td>\n",
       "      <td>0</td>\n",
       "      <td>1</td>\n",
       "      <td>0</td>\n",
       "      <td>0</td>\n",
       "      <td>0</td>\n",
       "      <td>1</td>\n",
       "    </tr>\n",
       "    <tr>\n",
       "      <th>1</th>\n",
       "      <td>49</td>\n",
       "      <td>160</td>\n",
       "      <td>180</td>\n",
       "      <td>156</td>\n",
       "      <td>1.0</td>\n",
       "      <td>1</td>\n",
       "      <td>0</td>\n",
       "      <td>0</td>\n",
       "      <td>0</td>\n",
       "      <td>0</td>\n",
       "      <td>1</td>\n",
       "      <td>0</td>\n",
       "      <td>0</td>\n",
       "      <td>0</td>\n",
       "      <td>1</td>\n",
       "      <td>0</td>\n",
       "      <td>0</td>\n",
       "      <td>1</td>\n",
       "      <td>0</td>\n",
       "    </tr>\n",
       "    <tr>\n",
       "      <th>2</th>\n",
       "      <td>37</td>\n",
       "      <td>130</td>\n",
       "      <td>283</td>\n",
       "      <td>98</td>\n",
       "      <td>0.0</td>\n",
       "      <td>0</td>\n",
       "      <td>0</td>\n",
       "      <td>1</td>\n",
       "      <td>0</td>\n",
       "      <td>1</td>\n",
       "      <td>0</td>\n",
       "      <td>0</td>\n",
       "      <td>1</td>\n",
       "      <td>0</td>\n",
       "      <td>0</td>\n",
       "      <td>0</td>\n",
       "      <td>0</td>\n",
       "      <td>0</td>\n",
       "      <td>1</td>\n",
       "    </tr>\n",
       "    <tr>\n",
       "      <th>3</th>\n",
       "      <td>48</td>\n",
       "      <td>138</td>\n",
       "      <td>214</td>\n",
       "      <td>108</td>\n",
       "      <td>1.5</td>\n",
       "      <td>1</td>\n",
       "      <td>0</td>\n",
       "      <td>0</td>\n",
       "      <td>1</td>\n",
       "      <td>0</td>\n",
       "      <td>0</td>\n",
       "      <td>0</td>\n",
       "      <td>0</td>\n",
       "      <td>0</td>\n",
       "      <td>1</td>\n",
       "      <td>1</td>\n",
       "      <td>0</td>\n",
       "      <td>1</td>\n",
       "      <td>0</td>\n",
       "    </tr>\n",
       "    <tr>\n",
       "      <th>4</th>\n",
       "      <td>54</td>\n",
       "      <td>150</td>\n",
       "      <td>195</td>\n",
       "      <td>122</td>\n",
       "      <td>0.0</td>\n",
       "      <td>0</td>\n",
       "      <td>0</td>\n",
       "      <td>1</td>\n",
       "      <td>0</td>\n",
       "      <td>0</td>\n",
       "      <td>1</td>\n",
       "      <td>0</td>\n",
       "      <td>0</td>\n",
       "      <td>0</td>\n",
       "      <td>1</td>\n",
       "      <td>0</td>\n",
       "      <td>0</td>\n",
       "      <td>0</td>\n",
       "      <td>1</td>\n",
       "    </tr>\n",
       "  </tbody>\n",
       "</table>\n",
       "</div>"
      ],
      "text/plain": [
       "   age  resting_bp  cholesterol  max_hr  oldpeak  heart_disease  fasting_bs  \\\n",
       "0   40         140          289     172      0.0              0           0   \n",
       "1   49         160          180     156      1.0              1           0   \n",
       "2   37         130          283      98      0.0              0           0   \n",
       "3   48         138          214     108      1.5              1           0   \n",
       "4   54         150          195     122      0.0              0           0   \n",
       "\n",
       "   sex_male  chest_pain_type_asymptomatic  chest_pain_type_atypical_angina  \\\n",
       "0         1                             0                                1   \n",
       "1         0                             0                                0   \n",
       "2         1                             0                                1   \n",
       "3         0                             1                                0   \n",
       "4         1                             0                                0   \n",
       "\n",
       "   chest_pain_type_non_anginal_pain  chest_pain_type_typical_angina  \\\n",
       "0                                 0                               0   \n",
       "1                                 1                               0   \n",
       "2                                 0                               0   \n",
       "3                                 0                               0   \n",
       "4                                 1                               0   \n",
       "\n",
       "   resting_ecg_abnormal_stt_wave  resting_ecg_left_vent_hypertrophy  \\\n",
       "0                              0                                  0   \n",
       "1                              0                                  0   \n",
       "2                              1                                  0   \n",
       "3                              0                                  0   \n",
       "4                              0                                  0   \n",
       "\n",
       "   resting_ecg_normal  exercise_angina_yes  st_slope_down  st_slope_flat  \\\n",
       "0                   1                    0              0              0   \n",
       "1                   1                    0              0              1   \n",
       "2                   0                    0              0              0   \n",
       "3                   1                    1              0              1   \n",
       "4                   1                    0              0              0   \n",
       "\n",
       "   st_slope_up  \n",
       "0            1  \n",
       "1            0  \n",
       "2            1  \n",
       "3            0  \n",
       "4            1  "
      ]
     },
     "execution_count": 15,
     "metadata": {},
     "output_type": "execute_result"
    }
   ],
   "source": [
    "# drop one column for each of the variables that only had two values\n",
    "cat_dummies = cat_dummies.drop(['sex_female', 'exercise_angina_no'], axis=1)\n",
    "\n",
    "# drop original categorical columns from our dataframe\n",
    "heart = heart.drop(cat_cols, axis=1)\n",
    "\n",
    "# join dummy categorical cols with remaining cols of our dataframe\n",
    "heart = pd.concat([heart, cat_dummies], axis=1)\n",
    "\n",
    "heart.head()"
   ]
  },
  {
   "cell_type": "markdown",
   "id": "fb23afbe",
   "metadata": {},
   "source": [
    "### 5 - Numerical columns - check for any suspicious values and outliers"
   ]
  },
  {
   "cell_type": "code",
   "execution_count": 17,
   "id": "f623aa44",
   "metadata": {
    "scrolled": false
   },
   "outputs": [
    {
     "data": {
      "image/png": "[encoded data removed]",
      "text/plain": [
       "<Figure size 1152x432 with 5 Axes>"
      ]
     },
     "metadata": {
      "needs_background": "light"
     },
     "output_type": "display_data"
    }
   ],
   "source": [
    "num_cols = ['age', 'resting_bp', 'cholesterol', 'max_hr', 'oldpeak']\n",
    "\n",
    "fig = plt.figure(figsize=(16, 6))\n",
    "for i, col in enumerate(num_cols):\n",
    "    ax = fig.add_subplot(2, 3, i+1)\n",
    "    plt.hist(heart[col])\n",
    "    plt.title(col)\n",
    "    \n",
    "plt.show()"
   ]
  },
  {
   "cell_type": "code",
   "execution_count": 18,
   "id": "5a860a31",
   "metadata": {
    "scrolled": true
   },
   "outputs": [
    {
     "data": {
      "image/png": "[encoded data removed]",
      "text/plain": [
       "<Figure size 1152x288 with 5 Axes>"
      ]
     },
     "metadata": {
      "needs_background": "light"
     },
     "output_type": "display_data"
    }
   ],
   "source": [
    "fig = plt.figure(figsize=(16, 4))\n",
    "for i, col in enumerate(num_cols):\n",
    "    ax = fig.add_subplot(1, 5, i+1)\n",
    "    plt.boxplot(heart[col])\n",
    "    plt.title(col)\n",
    "    \n",
    "plt.show()"
   ]
  },
  {
   "cell_type": "markdown",
   "id": "9d11ef5c",
   "metadata": {},
   "source": [
    "It looks like:  \n",
    "**age** seams reasonable,  \n",
    "**resting_bp** has at least one zero value and *maybe* some outliers,  \n",
    "**cholesterol** has tons of zero values, probably need to impute instead of remove,  \n",
    "**max_hr** looks okay but might have a few outliers,  \n",
    "**oldpeak** may have some outliers; I don't know enough about what **oldpeak** is measuring to judge the extreme values well."
   ]
  },
  {
   "cell_type": "markdown",
   "id": "bd1053e0",
   "metadata": {},
   "source": [
    "#### age\n",
    "Just verify that the age range is reasonable"
   ]
  },
  {
   "cell_type": "code",
   "execution_count": 19,
   "id": "2d8a38a5",
   "metadata": {
    "scrolled": true
   },
   "outputs": [
    {
     "data": {
      "text/plain": [
       "(28, 77)"
      ]
     },
     "execution_count": 19,
     "metadata": {},
     "output_type": "execute_result"
    }
   ],
   "source": [
    "heart['age'].min(), heart['age'].max()"
   ]
  },
  {
   "cell_type": "markdown",
   "id": "17820904",
   "metadata": {},
   "source": [
    "#### resting_bp\n",
    "At least one zero value, maybe some outliers"
   ]
  },
  {
   "cell_type": "code",
   "execution_count": 14,
   "id": "421f3450",
   "metadata": {
    "scrolled": true
   },
   "outputs": [
    {
     "data": {
      "text/plain": [
       "0     1\n",
       "80    1\n",
       "92    1\n",
       "94    2\n",
       "95    6\n",
       "Name: resting_bp, dtype: int64"
      ]
     },
     "execution_count": 14,
     "metadata": {},
     "output_type": "execute_result"
    }
   ],
   "source": [
    "heart['resting_bp'].value_counts().sort_index().head()"
   ]
  },
  {
   "cell_type": "code",
   "execution_count": 20,
   "id": "8f661be3",
   "metadata": {
    "scrolled": true
   },
   "outputs": [
    {
     "data": {
      "text/plain": [
       "180    12\n",
       "185     1\n",
       "190     2\n",
       "192     1\n",
       "200     4\n",
       "Name: resting_bp, dtype: int64"
      ]
     },
     "execution_count": 20,
     "metadata": {},
     "output_type": "execute_result"
    }
   ],
   "source": [
    "heart['resting_bp'].value_counts().sort_index().tail()"
   ]
  },
  {
   "cell_type": "code",
   "execution_count": 21,
   "id": "98b9358f",
   "metadata": {
    "scrolled": true
   },
   "outputs": [],
   "source": [
    "# drop row with a zero for resting_bp since its only one row\n",
    "heart = heart[heart['resting_bp'] > 0]"
   ]
  },
  {
   "cell_type": "code",
   "execution_count": 22,
   "id": "684c672f",
   "metadata": {
    "scrolled": true
   },
   "outputs": [
    {
     "data": {
      "image/png": "[encoded data removed]",
      "text/plain": [
       "<Figure size 432x288 with 1 Axes>"
      ]
     },
     "metadata": {
      "needs_background": "light"
     },
     "output_type": "display_data"
    }
   ],
   "source": [
    "# check for normality of resting_bp values\n",
    "sm.qqplot(heart['resting_bp'], line='45', loc=heart['resting_bp'].mean(), scale=heart['resting_bp'].std())\n",
    "plt.show()"
   ]
  },
  {
   "cell_type": "markdown",
   "id": "fc9f7f88",
   "metadata": {},
   "source": [
    "Seems close enough to Normal that we can use z-scores as a way to identify outliers"
   ]
  },
  {
   "cell_type": "code",
   "execution_count": 23,
   "id": "9a29efd7",
   "metadata": {
    "scrolled": true
   },
   "outputs": [
    {
     "data": {
      "text/plain": [
       "2.916026    1\n",
       "2.920572    1\n",
       "3.193959    2\n",
       "3.305132    1\n",
       "3.749826    4\n",
       "dtype: int64"
      ]
     },
     "execution_count": 23,
     "metadata": {},
     "output_type": "execute_result"
    }
   ],
   "source": [
    "rbp_zscore = pd.Series(zscore(heart['resting_bp'])).abs()\n",
    "rbp_zscore.value_counts().sort_index().tail()"
   ]
  },
  {
   "cell_type": "markdown",
   "id": "bf1e0140",
   "metadata": {},
   "source": [
    "Looks like we have 7 total values with a z-score of at least 3. With Normally-distributed values, we'd expect approximately 3/1000 values to be this extreme, and our dataset has 7/968 values this extreme.  This is not *too* far off from what is expected, and these \"extreme\" values are still technically possible, despite being unlikely. Furthermore, 4 of the values (the most extreme 4 values) are a resting_bp of 200, which is possibly the highest reading a machine would give.\n",
    "\n",
    "I'm going to choose to leave these \"outliers\" in, but further fine-tuning of this dataset for learning may include removal of these rows."
   ]
  },
  {
   "cell_type": "markdown",
   "id": "d51c408d",
   "metadata": {},
   "source": [
    "#### cholesterol\n",
    "\n",
    "Tons of zero values, too many to drop, so we should impute. Let's see how skewed these values are by computing the mean and median without the zero values."
   ]
  },
  {
   "cell_type": "code",
   "execution_count": 24,
   "id": "8b0337b2",
   "metadata": {},
   "outputs": [
    {
     "data": {
      "text/plain": [
       "171"
      ]
     },
     "execution_count": 24,
     "metadata": {},
     "output_type": "execute_result"
    }
   ],
   "source": [
    "# count the rows with 0 reported for cholesterol\n",
    "sum(heart['cholesterol'] == 0)"
   ]
  },
  {
   "cell_type": "code",
   "execution_count": 25,
   "id": "27416ed4",
   "metadata": {
    "scrolled": true
   },
   "outputs": [
    {
     "data": {
      "text/plain": [
       "'mean: 244.6353887399464,  median 237.0'"
      ]
     },
     "execution_count": 25,
     "metadata": {},
     "output_type": "execute_result"
    }
   ],
   "source": [
    "# compute mean and median of the non-zero cholesterol values\n",
    "non_zero = heart[heart['cholesterol'] > 0]['cholesterol']\n",
    "f'mean: {non_zero.mean()},  median {non_zero.median()}'"
   ]
  },
  {
   "cell_type": "markdown",
   "id": "23d6ec9c",
   "metadata": {
    "scrolled": false
   },
   "source": [
    "So, they are relatively close suggesting that this is a fairly symmetric distribution.  Let's split the difference and impute 240 for the rows that have a value of 0 for cholesterol."
   ]
  },
  {
   "cell_type": "code",
   "execution_count": 26,
   "id": "9ca9d24b",
   "metadata": {
    "scrolled": true
   },
   "outputs": [
    {
     "data": {
      "text/plain": [
       "<AxesSubplot:ylabel='Frequency'>"
      ]
     },
     "execution_count": 26,
     "metadata": {},
     "output_type": "execute_result"
    },
    {
     "data": {
      "image/png": "[encoded data removed]",
      "text/plain": [
       "<Figure size 432x288 with 1 Axes>"
      ]
     },
     "metadata": {
      "needs_background": "light"
     },
     "output_type": "display_data"
    }
   ],
   "source": [
    "heart['cholesterol'] = heart['cholesterol'].replace(0, 240)\n",
    "heart['cholesterol'].plot(kind='hist')"
   ]
  },
  {
   "cell_type": "markdown",
   "id": "4e6f1add",
   "metadata": {},
   "source": [
    "Okay, so that cleaned up the zeros.\n",
    "\n",
    "Now, should we remove outliers?  Let's see how the target column is distributed for patients with very high cholesterol (above 400)."
   ]
  },
  {
   "cell_type": "code",
   "execution_count": 27,
   "id": "4f14981c",
   "metadata": {
    "scrolled": true
   },
   "outputs": [
    {
     "data": {
      "text/plain": [
       "1    8\n",
       "0    5\n",
       "Name: heart_disease, dtype: int64"
      ]
     },
     "execution_count": 27,
     "metadata": {},
     "output_type": "execute_result"
    }
   ],
   "source": [
    "heart[heart['cholesterol'] > 400]['heart_disease'].value_counts()"
   ]
  },
  {
   "cell_type": "markdown",
   "id": "bf2fe1c2",
   "metadata": {
    "scrolled": false
   },
   "source": [
    "<mark>Question:</mark> *I was somewhat expecting that very high cholesterol would have been a better indicator of whether or not a person has heart disease, but \"very high cholesterol\" is not as good of a singular predictor as I expected.  So, I think in this case that the \"outliers\" for cholesterol maybe should be removed; if all patients with cholesterol had heart disease, we'd definitely want to keep the outliers as they are.*\n",
    "\n",
    "I *do* know that cholesterol *can* be as high as our highest readings (highest ever recorded was over 3000!), so I'll leave them in for now."
   ]
  },
  {
   "cell_type": "markdown",
   "id": "379130c2",
   "metadata": {
    "scrolled": false
   },
   "source": [
    "#### max_hr\n",
    "\n",
    "Couple of very low values, but I don't think we know enough to drop them."
   ]
  },
  {
   "cell_type": "code",
   "execution_count": 28,
   "id": "6688c080",
   "metadata": {
    "scrolled": true
   },
   "outputs": [
    {
     "data": {
      "text/plain": [
       "60    1\n",
       "63    1\n",
       "67    1\n",
       "69    1\n",
       "70    1\n",
       "71    1\n",
       "72    2\n",
       "73    1\n",
       "77    1\n",
       "78    1\n",
       "80    2\n",
       "82    3\n",
       "83    1\n",
       "84    3\n",
       "86    4\n",
       "Name: max_hr, dtype: int64"
      ]
     },
     "execution_count": 28,
     "metadata": {},
     "output_type": "execute_result"
    }
   ],
   "source": [
    "heart['max_hr'].value_counts().sort_index()[:15]"
   ]
  },
  {
   "cell_type": "markdown",
   "id": "8fefe2ab",
   "metadata": {
    "scrolled": false
   },
   "source": [
    "Pretty low for max heart rate, but not completely unbelievable."
   ]
  },
  {
   "cell_type": "markdown",
   "id": "8bcc99e7",
   "metadata": {
    "scrolled": false
   },
   "source": [
    "#### oldpeak\n",
    "\n",
    "Of the numerical columns, this is the one that I understand the least.  Our boxplots suggest there may be some outliers, but I don't know enough to justify removing/altering any of these \"extreme\" values."
   ]
  },
  {
   "cell_type": "markdown",
   "id": "82152dc5",
   "metadata": {
    "scrolled": false
   },
   "source": [
    "### Assemble a processed dataframe\n",
    "\n",
    "Let's make one function that incorporates all the preprocessing steps we just did to produce a cleaned *heart* DataFrame.\n",
    "\n",
    "Also, note that we did not min-max normalize our values - this happens as part of a Pipeline() when training and testing."
   ]
  },
  {
   "cell_type": "code",
   "execution_count": 29,
   "id": "e0f7cc33",
   "metadata": {
    "scrolled": true
   },
   "outputs": [],
   "source": [
    "def get_heart_df():\n",
    "    \n",
    "    # read in csv\n",
    "    heart = pd.read_csv('heart.csv')\n",
    "    \n",
    "    # fix column names\n",
    "    columns = ['age', 'sex', 'chest_pain_type', 'resting_bp', 'cholesterol', 'fasting_bs', 'resting_ecg', 'max_hr',\n",
    "          'exercise_angina', 'oldpeak', 'st_slope', 'heart_disease']\n",
    "    heart.columns = columns\n",
    "    \n",
    "    # fix column values\n",
    "    heart['sex'] = heart['sex'].replace({'M': 'male', \n",
    "                                         'F': 'female'})\n",
    "    heart['chest_pain_type'] = heart['chest_pain_type'].replace({'TA': 'typical_angina',\n",
    "                                                                 'ATA': 'atypical_angina',\n",
    "                                                                 'NAP': 'non_anginal_pain',\n",
    "                                                                 'ASY': 'asymptomatic'})\n",
    "    heart['resting_ecg'] = heart['resting_ecg'].replace({'Normal': 'normal',\n",
    "                                                         'ST': 'abnormal_stt_wave',\n",
    "                                                         'LVH': 'left_vent_hypertrophy'})\n",
    "    heart['exercise_angina'] = heart['exercise_angina'].replace({'Y': 'yes',\n",
    "                                                                 'N': 'no'})\n",
    "    heart['st_slope'] = heart['st_slope'].replace({'Flat': 'flat',\n",
    "                                                   'Up': 'up',\n",
    "                                                   'Down': 'down'})\n",
    "    \n",
    "    # replace categorical columns with dummies\n",
    "    cat_dummies = pd.get_dummies(heart[cat_cols])\n",
    "    cat_dummies = cat_dummies.drop(['sex_female', 'exercise_angina_no'], axis=1)\n",
    "    heart = heart.drop(cat_cols, axis=1)\n",
    "    heart = pd.concat([heart, cat_dummies], axis=1)\n",
    "    \n",
    "    # clean up numeric columns\n",
    "    heart = heart[heart['resting_bp'] > 0]\n",
    "    heart['cholesterol'] = heart['cholesterol'].replace(0, 240)\n",
    "    \n",
    "    return heart"
   ]
  },
  {
   "cell_type": "code",
   "execution_count": 30,
   "id": "4ae8a502",
   "metadata": {
    "scrolled": true
   },
   "outputs": [],
   "source": [
    "heart = get_heart_df()"
   ]
  },
  {
   "cell_type": "markdown",
   "id": "3c493bad",
   "metadata": {
    "scrolled": false
   },
   "source": [
    "<a class=\"anchor\" id=\"featsel\"></a>\n",
    "# Feature Selection\n",
    "\n",
    "To select features, we'll first see if there are any highly correlated variables.  \n",
    "\n",
    "Then, we'll tune a Random Forest Classifier to help us select features."
   ]
  },
  {
   "cell_type": "code",
   "execution_count": 33,
   "id": "4acd72f8",
   "metadata": {
    "scrolled": false
   },
   "outputs": [
    {
     "data": {
      "image/png": "[encoded data removed]",
      "text/plain": [
       "<Figure size 792x648 with 2 Axes>"
      ]
     },
     "metadata": {},
     "output_type": "display_data"
    }
   ],
   "source": [
    "corrs = heart.corr().abs()\n",
    "sns.set(font_scale = 1.0)\n",
    "f, ax = plt.subplots(figsize=(11, 9))\n",
    "sns.heatmap(corrs, cmap= \"YlGnBu\", square=True, ax = ax)\n",
    "f.tight_layout()\n",
    "plt.show()"
   ]
  },
  {
   "cell_type": "markdown",
   "id": "a8d7d2c9",
   "metadata": {},
   "source": [
    "Aside from *st_slope_flat* and *st_slope_up*, we don't have any very highly correlated variables, so we won't drop columns due to high correlation.\n",
    "\n",
    "Now we'll train a Random Forest and use it to help us select columns.\n",
    "\n",
    "The function used here is contained within *ClassificationEnsemble.py*.\n",
    "\n",
    "This function will first perform a GridSearchCV to tune the parameters for a Random Forest.\n",
    "\n",
    "Then, using the Random Forest with the ideal parameters, we perform RFECV to determine the ranked importance of each feature, and to get a recommended subset of features to use.\n",
    "\n",
    "Often the RFECV will recommend more features than we may want, so we should always check the two graphs (# Features vs. AUC) and (Feature Importances) to confirm the recommendation of RFECV, or alter it.\n",
    "\n",
    "This takes 3-5 minutes to run."
   ]
  },
  {
   "cell_type": "code",
   "execution_count": 34,
   "id": "51e954d4",
   "metadata": {
    "scrolled": true
   },
   "outputs": [
    {
     "data": {
      "text/plain": [
       "((733, 18), (184, 18), (733,), (184,))"
      ]
     },
     "execution_count": 34,
     "metadata": {},
     "output_type": "execute_result"
    }
   ],
   "source": [
    "target = 'heart_disease'\n",
    "X_train, X_test, y_train, y_test = train_test_split(heart.drop(target, axis=1), heart[target], test_size=0.2, random_state=1000)\n",
    "X_train.shape, X_test.shape, y_train.shape, y_test.shape"
   ]
  },
  {
   "cell_type": "code",
   "execution_count": 35,
   "id": "7a009c9b",
   "metadata": {
    "scrolled": false
   },
   "outputs": [
    {
     "name": "stdout",
     "output_type": "stream",
     "text": [
      "Fitting 5 folds for each of 1152 candidates, totalling 5760 fits\n",
      "\n",
      "\n",
      "RFECV selected __ 14 __ features out of 18 total features:\n",
      "\n",
      "\n",
      "['age', 'resting_bp', 'cholesterol', 'max_hr', 'oldpeak', 'fasting_bs', 'sex_male', 'chest_pain_type_asymptomatic', 'chest_pain_type_atypical_angina', 'chest_pain_type_non_anginal_pain', 'resting_ecg_normal', 'exercise_angina_yes', 'st_slope_flat', 'st_slope_up']\n",
      "\n",
      "\n",
      "\n"
     ]
    },
    {
     "data": {
      "image/png": "[encoded data removed]",
      "text/plain": [
       "<Figure size 1008x360 with 2 Axes>"
      ]
     },
     "metadata": {},
     "output_type": "display_data"
    }
   ],
   "source": [
    "feat_imps, sel_cols = get_feature_importances(X_train, y_train)"
   ]
  },
  {
   "cell_type": "markdown",
   "id": "a0e66e5b",
   "metadata": {},
   "source": [
    "As somewhat expected, RFECV selected more columns than we probably want.  I can *see* the maximum AUC at 14 features, but it is very barely higher than the AUC at 12 features, so I'll just take the first 12 features.\n",
    "\n",
    "Note that this RFECV feature selection results will change if rerun.\n",
    "\n",
    "Also, note that the information about the *st_slope* is pretty important. Here is a website with some good graphs describing what the *st_slope* is actually measuring: https://litfl.com/myocardial-ischaemia-ecg-library/"
   ]
  },
  {
   "cell_type": "code",
   "execution_count": 36,
   "id": "62006240",
   "metadata": {
    "scrolled": true
   },
   "outputs": [
    {
     "data": {
      "text/plain": [
       "['st_slope_up',\n",
       " 'st_slope_flat',\n",
       " 'chest_pain_type_asymptomatic',\n",
       " 'oldpeak',\n",
       " 'exercise_angina_yes',\n",
       " 'max_hr',\n",
       " 'age',\n",
       " 'cholesterol',\n",
       " 'resting_bp',\n",
       " 'sex_male',\n",
       " 'chest_pain_type_atypical_angina',\n",
       " 'fasting_bs']"
      ]
     },
     "execution_count": 36,
     "metadata": {},
     "output_type": "execute_result"
    }
   ],
   "source": [
    "selected_feats = feat_imps[:12].index.to_list()\n",
    "selected_feats"
   ]
  },
  {
   "cell_type": "markdown",
   "id": "010ad217",
   "metadata": {},
   "source": [
    "<a class=\"anchor\" id=\"traintest\"></a>\n",
    "# Train and Test\n",
    "\n",
    "The function used here is contained within *ClassificationEnsemble.py*.\n",
    "\n",
    "It will perform hyperparameter tuning, training, and testing on 18 different classifiers.\n",
    "\n",
    "This takes 20-30 minutes."
   ]
  },
  {
   "cell_type": "code",
   "execution_count": 37,
   "id": "b484a656",
   "metadata": {
    "scrolled": true
   },
   "outputs": [
    {
     "name": "stdout",
     "output_type": "stream",
     "text": [
      "Tuning LDA . . . \n",
      "Tuning QDA . . . \n",
      "Tuning AdaBoost . . . \n",
      "Tuning Bagging . . . \n",
      "Tuning Extra Trees Ensemble . . . \n",
      "Tuning Gradient Boosting . . . \n",
      "Tuning Random Forest . . . \n",
      "Tuning Ridge . . . \n",
      "Tuning SGD . . . \n",
      "Tuning BNB . . . \n",
      "Tuning GNB . . . \n",
      "Tuning KNN . . . \n",
      "Tuning MLP . . . \n"
     ]
    },
    {
     "name": "stderr",
     "output_type": "stream",
     "text": [
      "C:\\Users\\alueh\\AppData\\Roaming\\Python\\Python38\\site-packages\\sklearn\\neural_network\\_multilayer_perceptron.py:692: ConvergenceWarning: Stochastic Optimizer: Maximum iterations (100) reached and the optimization hasn't converged yet.\n",
      "  warnings.warn(\n"
     ]
    },
    {
     "name": "stdout",
     "output_type": "stream",
     "text": [
      "Tuning LSVC . . . \n",
      "Tuning NuSVC . . . \n",
      "Tuning SVC . . . \n",
      "Tuning DTC . . . \n",
      "Tuning ETC . . . \n"
     ]
    },
    {
     "data": {
      "image/png": "[encoded data removed]",
      "text/plain": [
       "<Figure size 432x288 with 1 Axes>"
      ]
     },
     "metadata": {},
     "output_type": "display_data"
    },
    {
     "name": "stdout",
     "output_type": "stream",
     "text": [
      "             classifier  test_auc\n",
      "5     Gradient Boosting  0.893945\n",
      "2              AdaBoost  0.893456\n",
      "4  Extra Trees Ensemble  0.891865\n",
      "1                   QDA  0.889541\n",
      "3               Bagging  0.887829\n"
     ]
    }
   ],
   "source": [
    "results, resdf = train_test_all_classifiers(X_train[selected_feats], X_test[selected_feats], y_train, y_test)"
   ]
  },
  {
   "cell_type": "code",
   "execution_count": 38,
   "id": "7169236a",
   "metadata": {
    "scrolled": false
   },
   "outputs": [
    {
     "data": {
      "text/html": [
       "<div>\n",
       "<style scoped>\n",
       "    .dataframe tbody tr th:only-of-type {\n",
       "        vertical-align: middle;\n",
       "    }\n",
       "\n",
       "    .dataframe tbody tr th {\n",
       "        vertical-align: top;\n",
       "    }\n",
       "\n",
       "    .dataframe thead th {\n",
       "        text-align: right;\n",
       "    }\n",
       "</style>\n",
       "<table border=\"1\" class=\"dataframe\">\n",
       "  <thead>\n",
       "    <tr style=\"text-align: right;\">\n",
       "      <th></th>\n",
       "      <th>classifier</th>\n",
       "      <th>train_auc</th>\n",
       "      <th>test_auc</th>\n",
       "    </tr>\n",
       "  </thead>\n",
       "  <tbody>\n",
       "    <tr>\n",
       "      <th>5</th>\n",
       "      <td>Gradient Boosting</td>\n",
       "      <td>0.942821</td>\n",
       "      <td>0.893945</td>\n",
       "    </tr>\n",
       "    <tr>\n",
       "      <th>2</th>\n",
       "      <td>AdaBoost</td>\n",
       "      <td>0.937239</td>\n",
       "      <td>0.893456</td>\n",
       "    </tr>\n",
       "    <tr>\n",
       "      <th>4</th>\n",
       "      <td>Extra Trees Ensemble</td>\n",
       "      <td>0.936045</td>\n",
       "      <td>0.891865</td>\n",
       "    </tr>\n",
       "    <tr>\n",
       "      <th>1</th>\n",
       "      <td>QDA</td>\n",
       "      <td>0.936995</td>\n",
       "      <td>0.889541</td>\n",
       "    </tr>\n",
       "    <tr>\n",
       "      <th>3</th>\n",
       "      <td>Bagging</td>\n",
       "      <td>0.939142</td>\n",
       "      <td>0.887829</td>\n",
       "    </tr>\n",
       "    <tr>\n",
       "      <th>6</th>\n",
       "      <td>Random Forest</td>\n",
       "      <td>0.940906</td>\n",
       "      <td>0.887706</td>\n",
       "    </tr>\n",
       "    <tr>\n",
       "      <th>0</th>\n",
       "      <td>LDA</td>\n",
       "      <td>0.931779</td>\n",
       "      <td>0.887584</td>\n",
       "    </tr>\n",
       "    <tr>\n",
       "      <th>7</th>\n",
       "      <td>Ridge</td>\n",
       "      <td>0.931779</td>\n",
       "      <td>0.887584</td>\n",
       "    </tr>\n",
       "    <tr>\n",
       "      <th>8</th>\n",
       "      <td>SGD</td>\n",
       "      <td>0.933758</td>\n",
       "      <td>0.887339</td>\n",
       "    </tr>\n",
       "    <tr>\n",
       "      <th>13</th>\n",
       "      <td>LSVC</td>\n",
       "      <td>0.933234</td>\n",
       "      <td>0.885382</td>\n",
       "    </tr>\n",
       "    <tr>\n",
       "      <th>16</th>\n",
       "      <td>DTC</td>\n",
       "      <td>0.921375</td>\n",
       "      <td>0.885260</td>\n",
       "    </tr>\n",
       "    <tr>\n",
       "      <th>11</th>\n",
       "      <td>KNN</td>\n",
       "      <td>0.935821</td>\n",
       "      <td>0.885076</td>\n",
       "    </tr>\n",
       "    <tr>\n",
       "      <th>9</th>\n",
       "      <td>BNB</td>\n",
       "      <td>0.926293</td>\n",
       "      <td>0.883119</td>\n",
       "    </tr>\n",
       "    <tr>\n",
       "      <th>12</th>\n",
       "      <td>MLP</td>\n",
       "      <td>0.938414</td>\n",
       "      <td>0.876086</td>\n",
       "    </tr>\n",
       "    <tr>\n",
       "      <th>10</th>\n",
       "      <td>GNB</td>\n",
       "      <td>0.925709</td>\n",
       "      <td>0.875719</td>\n",
       "    </tr>\n",
       "    <tr>\n",
       "      <th>17</th>\n",
       "      <td>ETC</td>\n",
       "      <td>0.923319</td>\n",
       "      <td>0.875352</td>\n",
       "    </tr>\n",
       "    <tr>\n",
       "      <th>15</th>\n",
       "      <td>SVC</td>\n",
       "      <td>0.933889</td>\n",
       "      <td>0.874618</td>\n",
       "    </tr>\n",
       "    <tr>\n",
       "      <th>14</th>\n",
       "      <td>NuSVC</td>\n",
       "      <td>0.930835</td>\n",
       "      <td>0.872905</td>\n",
       "    </tr>\n",
       "  </tbody>\n",
       "</table>\n",
       "</div>"
      ],
      "text/plain": [
       "              classifier  train_auc  test_auc\n",
       "5      Gradient Boosting   0.942821  0.893945\n",
       "2               AdaBoost   0.937239  0.893456\n",
       "4   Extra Trees Ensemble   0.936045  0.891865\n",
       "1                    QDA   0.936995  0.889541\n",
       "3                Bagging   0.939142  0.887829\n",
       "6          Random Forest   0.940906  0.887706\n",
       "0                    LDA   0.931779  0.887584\n",
       "7                  Ridge   0.931779  0.887584\n",
       "8                    SGD   0.933758  0.887339\n",
       "13                  LSVC   0.933234  0.885382\n",
       "16                   DTC   0.921375  0.885260\n",
       "11                   KNN   0.935821  0.885076\n",
       "9                    BNB   0.926293  0.883119\n",
       "12                   MLP   0.938414  0.876086\n",
       "10                   GNB   0.925709  0.875719\n",
       "17                   ETC   0.923319  0.875352\n",
       "15                   SVC   0.933889  0.874618\n",
       "14                 NuSVC   0.930835  0.872905"
      ]
     },
     "execution_count": 38,
     "metadata": {},
     "output_type": "execute_result"
    }
   ],
   "source": [
    "resdf.sort_values('test_auc', ascending=False)"
   ]
  },
  {
   "cell_type": "markdown",
   "id": "3c572ecd",
   "metadata": {},
   "source": [
    "Here is an example of what each of the values in the *results* dictionary look like.  We'll snag the already tuned and fitted *'Classifier'* from each one."
   ]
  },
  {
   "cell_type": "code",
   "execution_count": 39,
   "id": "0c643b0a",
   "metadata": {
    "scrolled": false
   },
   "outputs": [
    {
     "data": {
      "text/plain": [
       "{'Classifier': GridSearchCV(cv=5,\n",
       "              estimator=Pipeline(steps=[('scaler', StandardScaler()),\n",
       "                                        ('classifier',\n",
       "                                         GradientBoostingClassifier(learning_rate=0.01,\n",
       "                                                                    max_depth=5,\n",
       "                                                                    max_features='log2',\n",
       "                                                                    min_samples_leaf=0.005,\n",
       "                                                                    min_samples_split=0.1,\n",
       "                                                                    n_estimators=200,\n",
       "                                                                    subsample=0.8))]),\n",
       "              n_jobs=-1,\n",
       "              param_grid={'classifier__learning_rate': [0.15, 0.1, 0.05, 0.01,\n",
       "                                                        0.005, 0.001],\n",
       "                          'classifier__max_depth': [2, 3, 4, 5, 6],\n",
       "                          'classifier__max_features': ['auto', 'sqrt', 'log2'],\n",
       "                          'classifier__min_samples_leaf': [0.005, 0.01, 0.05,\n",
       "                                                           0.1],\n",
       "                          'classifier__min_samples_split': [0.005, 0.01, 0.05,\n",
       "                                                            0.1],\n",
       "                          'classifier__n_estimators': [200],\n",
       "                          'classifier__subsample': [0.8, 0.9, 1]},\n",
       "              scoring='roc_auc'),\n",
       " 'Best Parameters': {'classifier__learning_rate': 0.01,\n",
       "  'classifier__max_depth': 5,\n",
       "  'classifier__max_features': 'log2',\n",
       "  'classifier__min_samples_leaf': 0.005,\n",
       "  'classifier__min_samples_split': 0.1,\n",
       "  'classifier__n_estimators': 200,\n",
       "  'classifier__subsample': 0.8},\n",
       " 'Training AUC': 0.9428207065936143,\n",
       " 'Test AUC': 0.8939449541284404}"
      ]
     },
     "execution_count": 39,
     "metadata": {},
     "output_type": "execute_result"
    }
   ],
   "source": [
    "results['Gradient Boosting']"
   ]
  },
  {
   "cell_type": "markdown",
   "id": "b9a2f251",
   "metadata": {},
   "source": [
    "<a class=\"anchor\" id=\"stacking\"></a>\n",
    "# Stacking Ensembles\n",
    "\n",
    "If it is the case that the errors in decisions by our best classifiers are generally uncorrelated, then we may benefit from creating a stacked ensemble of classifiers to improve our predictive power.  Let's take a look at the predictions from our 10 best classifiers and determine if they have low correlation or not."
   ]
  },
  {
   "cell_type": "code",
   "execution_count": 40,
   "id": "8796ed11",
   "metadata": {
    "scrolled": true
   },
   "outputs": [
    {
     "data": {
      "text/plain": [
       "['Gradient Boosting',\n",
       " 'AdaBoost',\n",
       " 'Extra Trees Ensemble',\n",
       " 'QDA',\n",
       " 'Bagging',\n",
       " 'Random Forest',\n",
       " 'LDA',\n",
       " 'Ridge',\n",
       " 'SGD',\n",
       " 'LSVC']"
      ]
     },
     "execution_count": 40,
     "metadata": {},
     "output_type": "execute_result"
    }
   ],
   "source": [
    "top10 = resdf.sort_values('test_auc', ascending=False)['classifier'].to_list()[:10]\n",
    "top10"
   ]
  },
  {
   "cell_type": "code",
   "execution_count": 44,
   "id": "7de577b7",
   "metadata": {
    "scrolled": true
   },
   "outputs": [],
   "source": [
    "classifiers = {\"LDA\": LinearDiscriminantAnalysis(),\n",
    "               \"QDA\": QuadraticDiscriminantAnalysis(),\n",
    "               \"AdaBoost\": AdaBoostClassifier(),\n",
    "               \"Bagging\": BaggingClassifier(),\n",
    "               \"Extra Trees Ensemble\": ExtraTreesClassifier(),\n",
    "               \"Gradient Boosting\": GradientBoostingClassifier(),\n",
    "               \"Random Forest\": RandomForestClassifier(),\n",
    "               \"Ridge\": RidgeClassifier(),\n",
    "               \"SGD\": SGDClassifier(),\n",
    "               \"LSVC\": LinearSVC()}\n",
    "\n",
    "decision_functions = [\"Ridge\", \"SGD\", \"LSVC\"]"
   ]
  },
  {
   "cell_type": "markdown",
   "id": "54af61b1",
   "metadata": {},
   "source": [
    "Note that of these 10 classifiers, 7 of them have a `predict_proba()` method that returns a probability in the interval [0, 1].  The other three classifiers instead have a `decision_function()` method that returns values symmetric over 0 where positive values are predicted as 'yes' and negative values as 'no', so we'll use a different method for it here, and we'll also handle these cases separately when determining the correctness of our predictions below due to the difference in range of output.  (So, calling this DF 'predictions' is not an entirely accurate name.)"
   ]
  },
  {
   "cell_type": "code",
   "execution_count": 46,
   "id": "13b6e549",
   "metadata": {
    "scrolled": true
   },
   "outputs": [
    {
     "data": {
      "text/html": [
       "<div>\n",
       "<style scoped>\n",
       "    .dataframe tbody tr th:only-of-type {\n",
       "        vertical-align: middle;\n",
       "    }\n",
       "\n",
       "    .dataframe tbody tr th {\n",
       "        vertical-align: top;\n",
       "    }\n",
       "\n",
       "    .dataframe thead th {\n",
       "        text-align: right;\n",
       "    }\n",
       "</style>\n",
       "<table border=\"1\" class=\"dataframe\">\n",
       "  <thead>\n",
       "    <tr style=\"text-align: right;\">\n",
       "      <th></th>\n",
       "      <th>Gradient Boosting</th>\n",
       "      <th>AdaBoost</th>\n",
       "      <th>Extra Trees Ensemble</th>\n",
       "      <th>QDA</th>\n",
       "      <th>Bagging</th>\n",
       "      <th>Random Forest</th>\n",
       "      <th>LDA</th>\n",
       "      <th>Ridge</th>\n",
       "      <th>SGD</th>\n",
       "      <th>LSVC</th>\n",
       "      <th>heart_disease</th>\n",
       "    </tr>\n",
       "  </thead>\n",
       "  <tbody>\n",
       "    <tr>\n",
       "      <th>0</th>\n",
       "      <td>0.813093</td>\n",
       "      <td>0.825718</td>\n",
       "      <td>0.934223</td>\n",
       "      <td>0.986837</td>\n",
       "      <td>0.770564</td>\n",
       "      <td>0.862955</td>\n",
       "      <td>0.986992</td>\n",
       "      <td>0.881090</td>\n",
       "      <td>1.996494</td>\n",
       "      <td>0.955877</td>\n",
       "      <td>1</td>\n",
       "    </tr>\n",
       "    <tr>\n",
       "      <th>1</th>\n",
       "      <td>0.846471</td>\n",
       "      <td>0.717746</td>\n",
       "      <td>0.869594</td>\n",
       "      <td>0.974347</td>\n",
       "      <td>0.847515</td>\n",
       "      <td>0.890952</td>\n",
       "      <td>0.943912</td>\n",
       "      <td>0.574610</td>\n",
       "      <td>1.035596</td>\n",
       "      <td>0.574830</td>\n",
       "      <td>1</td>\n",
       "    </tr>\n",
       "    <tr>\n",
       "      <th>2</th>\n",
       "      <td>0.616688</td>\n",
       "      <td>0.725700</td>\n",
       "      <td>0.380832</td>\n",
       "      <td>0.742799</td>\n",
       "      <td>0.621024</td>\n",
       "      <td>0.611460</td>\n",
       "      <td>0.516158</td>\n",
       "      <td>0.013236</td>\n",
       "      <td>-0.002390</td>\n",
       "      <td>0.073256</td>\n",
       "      <td>0</td>\n",
       "    </tr>\n",
       "    <tr>\n",
       "      <th>3</th>\n",
       "      <td>0.120029</td>\n",
       "      <td>0.154082</td>\n",
       "      <td>0.046585</td>\n",
       "      <td>0.001231</td>\n",
       "      <td>0.066125</td>\n",
       "      <td>0.021352</td>\n",
       "      <td>0.020870</td>\n",
       "      <td>-0.783105</td>\n",
       "      <td>-1.588449</td>\n",
       "      <td>-0.853067</td>\n",
       "      <td>0</td>\n",
       "    </tr>\n",
       "    <tr>\n",
       "      <th>4</th>\n",
       "      <td>0.504035</td>\n",
       "      <td>0.498227</td>\n",
       "      <td>0.359245</td>\n",
       "      <td>0.415454</td>\n",
       "      <td>0.562747</td>\n",
       "      <td>0.517233</td>\n",
       "      <td>0.170046</td>\n",
       "      <td>-0.322549</td>\n",
       "      <td>-0.970954</td>\n",
       "      <td>-0.391864</td>\n",
       "      <td>0</td>\n",
       "    </tr>\n",
       "  </tbody>\n",
       "</table>\n",
       "</div>"
      ],
      "text/plain": [
       "   Gradient Boosting  AdaBoost  Extra Trees Ensemble       QDA   Bagging  \\\n",
       "0           0.813093  0.825718              0.934223  0.986837  0.770564   \n",
       "1           0.846471  0.717746              0.869594  0.974347  0.847515   \n",
       "2           0.616688  0.725700              0.380832  0.742799  0.621024   \n",
       "3           0.120029  0.154082              0.046585  0.001231  0.066125   \n",
       "4           0.504035  0.498227              0.359245  0.415454  0.562747   \n",
       "\n",
       "   Random Forest       LDA     Ridge       SGD      LSVC  heart_disease  \n",
       "0       0.862955  0.986992  0.881090  1.996494  0.955877              1  \n",
       "1       0.890952  0.943912  0.574610  1.035596  0.574830              1  \n",
       "2       0.611460  0.516158  0.013236 -0.002390  0.073256              0  \n",
       "3       0.021352  0.020870 -0.783105 -1.588449 -0.853067              0  \n",
       "4       0.517233  0.170046 -0.322549 -0.970954 -0.391864              0  "
      ]
     },
     "execution_count": 46,
     "metadata": {},
     "output_type": "execute_result"
    }
   ],
   "source": [
    "predictions = pd.DataFrame()\n",
    "\n",
    "for clf in top10:\n",
    "    model = results[clf]['Classifier']\n",
    "    if clf in decision_functions:\n",
    "        y_pred = model.decision_function(X_test[selected_feats])\n",
    "    else:\n",
    "        y_pred = model.predict_proba(X_test[selected_feats])[:,1]\n",
    "    predictions[clf] = y_pred\n",
    "\n",
    "    \n",
    "predictions['heart_disease'] = y_test.values\n",
    "\n",
    "predictions.head()"
   ]
  },
  {
   "cell_type": "code",
   "execution_count": 52,
   "id": "d8579f51",
   "metadata": {},
   "outputs": [
    {
     "data": {
      "text/plain": [
       "0.8369565217391305"
      ]
     },
     "execution_count": 52,
     "metadata": {},
     "output_type": "execute_result"
    }
   ],
   "source": [
    "# percent accuracy of gradient boosting on the test set\n",
    "sum((predictions['Gradient Boosting'] >= .5) == predictions['heart_disease']) / len(predictions)"
   ]
  },
  {
   "cell_type": "markdown",
   "id": "3659a1f0",
   "metadata": {},
   "source": [
    "Now we use the numeric results above from `predict_proba()` and `decision_function()` to determine final binary predictions, then compare the binary predictions to the actual label, being sure to handle the deicision functions separately."
   ]
  },
  {
   "cell_type": "code",
   "execution_count": 53,
   "id": "2fc52792",
   "metadata": {
    "scrolled": true
   },
   "outputs": [
    {
     "data": {
      "text/html": [
       "<div>\n",
       "<style scoped>\n",
       "    .dataframe tbody tr th:only-of-type {\n",
       "        vertical-align: middle;\n",
       "    }\n",
       "\n",
       "    .dataframe tbody tr th {\n",
       "        vertical-align: top;\n",
       "    }\n",
       "\n",
       "    .dataframe thead th {\n",
       "        text-align: right;\n",
       "    }\n",
       "</style>\n",
       "<table border=\"1\" class=\"dataframe\">\n",
       "  <thead>\n",
       "    <tr style=\"text-align: right;\">\n",
       "      <th></th>\n",
       "      <th>Gradient Boosting</th>\n",
       "      <th>AdaBoost</th>\n",
       "      <th>Extra Trees Ensemble</th>\n",
       "      <th>QDA</th>\n",
       "      <th>Bagging</th>\n",
       "      <th>Random Forest</th>\n",
       "      <th>LDA</th>\n",
       "      <th>Ridge</th>\n",
       "      <th>SGD</th>\n",
       "      <th>LSVC</th>\n",
       "    </tr>\n",
       "  </thead>\n",
       "  <tbody>\n",
       "    <tr>\n",
       "      <th>0</th>\n",
       "      <td>True</td>\n",
       "      <td>True</td>\n",
       "      <td>True</td>\n",
       "      <td>True</td>\n",
       "      <td>True</td>\n",
       "      <td>True</td>\n",
       "      <td>True</td>\n",
       "      <td>True</td>\n",
       "      <td>True</td>\n",
       "      <td>True</td>\n",
       "    </tr>\n",
       "    <tr>\n",
       "      <th>1</th>\n",
       "      <td>True</td>\n",
       "      <td>True</td>\n",
       "      <td>True</td>\n",
       "      <td>True</td>\n",
       "      <td>True</td>\n",
       "      <td>True</td>\n",
       "      <td>True</td>\n",
       "      <td>True</td>\n",
       "      <td>True</td>\n",
       "      <td>True</td>\n",
       "    </tr>\n",
       "    <tr>\n",
       "      <th>2</th>\n",
       "      <td>False</td>\n",
       "      <td>False</td>\n",
       "      <td>True</td>\n",
       "      <td>False</td>\n",
       "      <td>False</td>\n",
       "      <td>False</td>\n",
       "      <td>False</td>\n",
       "      <td>False</td>\n",
       "      <td>True</td>\n",
       "      <td>False</td>\n",
       "    </tr>\n",
       "    <tr>\n",
       "      <th>3</th>\n",
       "      <td>True</td>\n",
       "      <td>True</td>\n",
       "      <td>True</td>\n",
       "      <td>True</td>\n",
       "      <td>True</td>\n",
       "      <td>True</td>\n",
       "      <td>True</td>\n",
       "      <td>True</td>\n",
       "      <td>True</td>\n",
       "      <td>True</td>\n",
       "    </tr>\n",
       "    <tr>\n",
       "      <th>4</th>\n",
       "      <td>False</td>\n",
       "      <td>True</td>\n",
       "      <td>True</td>\n",
       "      <td>True</td>\n",
       "      <td>False</td>\n",
       "      <td>False</td>\n",
       "      <td>True</td>\n",
       "      <td>True</td>\n",
       "      <td>True</td>\n",
       "      <td>True</td>\n",
       "    </tr>\n",
       "  </tbody>\n",
       "</table>\n",
       "</div>"
      ],
      "text/plain": [
       "   Gradient Boosting  AdaBoost  Extra Trees Ensemble    QDA  Bagging  \\\n",
       "0               True      True                  True   True     True   \n",
       "1               True      True                  True   True     True   \n",
       "2              False     False                  True  False    False   \n",
       "3               True      True                  True   True     True   \n",
       "4              False      True                  True   True    False   \n",
       "\n",
       "   Random Forest    LDA  Ridge   SGD   LSVC  \n",
       "0           True   True   True  True   True  \n",
       "1           True   True   True  True   True  \n",
       "2          False  False  False  True  False  \n",
       "3           True   True   True  True   True  \n",
       "4          False   True   True  True   True  "
      ]
     },
     "execution_count": 53,
     "metadata": {},
     "output_type": "execute_result"
    }
   ],
   "source": [
    "correct = pd.DataFrame({clf: predictions[clf].round() == predictions['heart_disease'] if clf not in decision_functions\n",
    "                        else (predictions[clf] > 0) == predictions['heart_disease'] for clf in top10})\n",
    "correct.head()"
   ]
  },
  {
   "cell_type": "markdown",
   "id": "1447abf9",
   "metadata": {},
   "source": [
    "We want to know if these classifiers' correct/incorrect decisions are highly correlated or not in order to judge how effective a stacking ensemble might be.  The lower the correlation in correctness between classifiers, the more improvement we can expect to see from a stacked ensemble."
   ]
  },
  {
   "cell_type": "code",
   "execution_count": 54,
   "id": "a075946d",
   "metadata": {
    "scrolled": true
   },
   "outputs": [
    {
     "data": {
      "text/html": [
       "<div>\n",
       "<style scoped>\n",
       "    .dataframe tbody tr th:only-of-type {\n",
       "        vertical-align: middle;\n",
       "    }\n",
       "\n",
       "    .dataframe tbody tr th {\n",
       "        vertical-align: top;\n",
       "    }\n",
       "\n",
       "    .dataframe thead th {\n",
       "        text-align: right;\n",
       "    }\n",
       "</style>\n",
       "<table border=\"1\" class=\"dataframe\">\n",
       "  <thead>\n",
       "    <tr style=\"text-align: right;\">\n",
       "      <th></th>\n",
       "      <th>Gradient Boosting</th>\n",
       "      <th>AdaBoost</th>\n",
       "      <th>Extra Trees Ensemble</th>\n",
       "      <th>QDA</th>\n",
       "      <th>Bagging</th>\n",
       "      <th>Random Forest</th>\n",
       "      <th>LDA</th>\n",
       "      <th>Ridge</th>\n",
       "      <th>SGD</th>\n",
       "      <th>LSVC</th>\n",
       "    </tr>\n",
       "  </thead>\n",
       "  <tbody>\n",
       "    <tr>\n",
       "      <th>Gradient Boosting</th>\n",
       "      <td>1.000000</td>\n",
       "      <td>0.920346</td>\n",
       "      <td>0.829084</td>\n",
       "      <td>0.823311</td>\n",
       "      <td>0.939576</td>\n",
       "      <td>0.960173</td>\n",
       "      <td>0.823311</td>\n",
       "      <td>0.823311</td>\n",
       "      <td>0.796041</td>\n",
       "      <td>0.840693</td>\n",
       "    </tr>\n",
       "    <tr>\n",
       "      <th>AdaBoost</th>\n",
       "      <td>0.920346</td>\n",
       "      <td>1.000000</td>\n",
       "      <td>0.790735</td>\n",
       "      <td>0.784004</td>\n",
       "      <td>0.856419</td>\n",
       "      <td>0.880519</td>\n",
       "      <td>0.784004</td>\n",
       "      <td>0.784004</td>\n",
       "      <td>0.755081</td>\n",
       "      <td>0.800866</td>\n",
       "    </tr>\n",
       "    <tr>\n",
       "      <th>Extra Trees Ensemble</th>\n",
       "      <td>0.829084</td>\n",
       "      <td>0.790735</td>\n",
       "      <td>1.000000</td>\n",
       "      <td>0.849323</td>\n",
       "      <td>0.766976</td>\n",
       "      <td>0.790735</td>\n",
       "      <td>0.887171</td>\n",
       "      <td>0.887171</td>\n",
       "      <td>0.866811</td>\n",
       "      <td>0.867432</td>\n",
       "    </tr>\n",
       "    <tr>\n",
       "      <th>QDA</th>\n",
       "      <td>0.823311</td>\n",
       "      <td>0.784004</td>\n",
       "      <td>0.849323</td>\n",
       "      <td>1.000000</td>\n",
       "      <td>0.839220</td>\n",
       "      <td>0.784004</td>\n",
       "      <td>0.961206</td>\n",
       "      <td>0.961206</td>\n",
       "      <td>0.941199</td>\n",
       "      <td>0.980540</td>\n",
       "    </tr>\n",
       "    <tr>\n",
       "      <th>Bagging</th>\n",
       "      <td>0.939576</td>\n",
       "      <td>0.856419</td>\n",
       "      <td>0.766976</td>\n",
       "      <td>0.839220</td>\n",
       "      <td>1.000000</td>\n",
       "      <td>0.939576</td>\n",
       "      <td>0.839220</td>\n",
       "      <td>0.839220</td>\n",
       "      <td>0.807805</td>\n",
       "      <td>0.856419</td>\n",
       "    </tr>\n",
       "    <tr>\n",
       "      <th>Random Forest</th>\n",
       "      <td>0.960173</td>\n",
       "      <td>0.880519</td>\n",
       "      <td>0.790735</td>\n",
       "      <td>0.784004</td>\n",
       "      <td>0.939576</td>\n",
       "      <td>1.000000</td>\n",
       "      <td>0.784004</td>\n",
       "      <td>0.784004</td>\n",
       "      <td>0.755081</td>\n",
       "      <td>0.800866</td>\n",
       "    </tr>\n",
       "    <tr>\n",
       "      <th>LDA</th>\n",
       "      <td>0.823311</td>\n",
       "      <td>0.784004</td>\n",
       "      <td>0.887171</td>\n",
       "      <td>0.961206</td>\n",
       "      <td>0.839220</td>\n",
       "      <td>0.784004</td>\n",
       "      <td>1.000000</td>\n",
       "      <td>1.000000</td>\n",
       "      <td>0.941199</td>\n",
       "      <td>0.980540</td>\n",
       "    </tr>\n",
       "    <tr>\n",
       "      <th>Ridge</th>\n",
       "      <td>0.823311</td>\n",
       "      <td>0.784004</td>\n",
       "      <td>0.887171</td>\n",
       "      <td>0.961206</td>\n",
       "      <td>0.839220</td>\n",
       "      <td>0.784004</td>\n",
       "      <td>1.000000</td>\n",
       "      <td>1.000000</td>\n",
       "      <td>0.941199</td>\n",
       "      <td>0.980540</td>\n",
       "    </tr>\n",
       "    <tr>\n",
       "      <th>SGD</th>\n",
       "      <td>0.796041</td>\n",
       "      <td>0.755081</td>\n",
       "      <td>0.866811</td>\n",
       "      <td>0.941199</td>\n",
       "      <td>0.807805</td>\n",
       "      <td>0.755081</td>\n",
       "      <td>0.941199</td>\n",
       "      <td>0.941199</td>\n",
       "      <td>1.000000</td>\n",
       "      <td>0.959879</td>\n",
       "    </tr>\n",
       "    <tr>\n",
       "      <th>LSVC</th>\n",
       "      <td>0.840693</td>\n",
       "      <td>0.800866</td>\n",
       "      <td>0.867432</td>\n",
       "      <td>0.980540</td>\n",
       "      <td>0.856419</td>\n",
       "      <td>0.800866</td>\n",
       "      <td>0.980540</td>\n",
       "      <td>0.980540</td>\n",
       "      <td>0.959879</td>\n",
       "      <td>1.000000</td>\n",
       "    </tr>\n",
       "  </tbody>\n",
       "</table>\n",
       "</div>"
      ],
      "text/plain": [
       "                      Gradient Boosting  AdaBoost  Extra Trees Ensemble  \\\n",
       "Gradient Boosting              1.000000  0.920346              0.829084   \n",
       "AdaBoost                       0.920346  1.000000              0.790735   \n",
       "Extra Trees Ensemble           0.829084  0.790735              1.000000   \n",
       "QDA                            0.823311  0.784004              0.849323   \n",
       "Bagging                        0.939576  0.856419              0.766976   \n",
       "Random Forest                  0.960173  0.880519              0.790735   \n",
       "LDA                            0.823311  0.784004              0.887171   \n",
       "Ridge                          0.823311  0.784004              0.887171   \n",
       "SGD                            0.796041  0.755081              0.866811   \n",
       "LSVC                           0.840693  0.800866              0.867432   \n",
       "\n",
       "                           QDA   Bagging  Random Forest       LDA     Ridge  \\\n",
       "Gradient Boosting     0.823311  0.939576       0.960173  0.823311  0.823311   \n",
       "AdaBoost              0.784004  0.856419       0.880519  0.784004  0.784004   \n",
       "Extra Trees Ensemble  0.849323  0.766976       0.790735  0.887171  0.887171   \n",
       "QDA                   1.000000  0.839220       0.784004  0.961206  0.961206   \n",
       "Bagging               0.839220  1.000000       0.939576  0.839220  0.839220   \n",
       "Random Forest         0.784004  0.939576       1.000000  0.784004  0.784004   \n",
       "LDA                   0.961206  0.839220       0.784004  1.000000  1.000000   \n",
       "Ridge                 0.961206  0.839220       0.784004  1.000000  1.000000   \n",
       "SGD                   0.941199  0.807805       0.755081  0.941199  0.941199   \n",
       "LSVC                  0.980540  0.856419       0.800866  0.980540  0.980540   \n",
       "\n",
       "                           SGD      LSVC  \n",
       "Gradient Boosting     0.796041  0.840693  \n",
       "AdaBoost              0.755081  0.800866  \n",
       "Extra Trees Ensemble  0.866811  0.867432  \n",
       "QDA                   0.941199  0.980540  \n",
       "Bagging               0.807805  0.856419  \n",
       "Random Forest         0.755081  0.800866  \n",
       "LDA                   0.941199  0.980540  \n",
       "Ridge                 0.941199  0.980540  \n",
       "SGD                   1.000000  0.959879  \n",
       "LSVC                  0.959879  1.000000  "
      ]
     },
     "execution_count": 54,
     "metadata": {},
     "output_type": "execute_result"
    }
   ],
   "source": [
    "correct.corr()"
   ]
  },
  {
   "cell_type": "code",
   "execution_count": 55,
   "id": "0fa25337",
   "metadata": {},
   "outputs": [
    {
     "data": {
      "text/plain": [
       "0.7550809976449248"
      ]
     },
     "execution_count": 55,
     "metadata": {},
     "output_type": "execute_result"
    }
   ],
   "source": [
    "correct.corr().min().min()"
   ]
  },
  {
   "cell_type": "markdown",
   "id": "978f1647",
   "metadata": {},
   "source": [
    "It appears that most of our best classifiers are relatively highly correlated in their predictions, and so we shouldn't expect a major improvement from building a stacked ensemble.  Let's do it anyway to validate our expectations.\n",
    "\n",
    "Here we fit a simple Logistic Regression classifier on only the *predictions* DataFrame information, then use the fitted model to predict on itself (so notice that while this is associated with our *test* data, we are training our meta-model on the results of predicting on our test set."
   ]
  },
  {
   "cell_type": "code",
   "execution_count": 56,
   "id": "0144b642",
   "metadata": {
    "scrolled": true
   },
   "outputs": [
    {
     "data": {
      "text/plain": [
       "0.8923547400611621"
      ]
     },
     "execution_count": 56,
     "metadata": {},
     "output_type": "execute_result"
    }
   ],
   "source": [
    "meta = LogisticRegression()\n",
    "meta.fit(predictions.drop(target, axis=1), predictions[target])\n",
    "meta_preds = meta.predict_proba(predictions.drop(target, axis=1))[:,1]\n",
    "auc = metrics.roc_auc_score(y_test, meta_preds)\n",
    "auc"
   ]
  },
  {
   "cell_type": "markdown",
   "id": "7c608d13",
   "metadata": {},
   "source": [
    "We can see that this AUC score of our meta-model was almost identical to the best test AUCs from individual best models.  Note that this is not an apples-to-apples comparison - our original models were trained on the training data and tested on the testing data to determine a test AUC.  The meta-model, on the other hand, was trained on the predictive results from each of the models on the *test* data, and then made prediction on that same test data to determine an AUC. So, the meta-model AUC is more like a training AUC than a test AUC since we made predictions on the same data we fit with, even though that is technically labeled as the test data.\n",
    "\n",
    "In any event, we should see *higher* than appropriate AUCs for training AUCs, and instead saw our meta-model have a training AUC tied with the best individual model test AUC, and so we can conclude that there is not likely any major benefit to be obtained from stacking in this case."
   ]
  },
  {
   "cell_type": "code",
   "execution_count": null,
   "id": "379d8967",
   "metadata": {
    "scrolled": true
   },
   "outputs": [],
   "source": []
  }
 ],
 "metadata": {
  "kernelspec": {
   "display_name": "Python 3",
   "language": "python",
   "name": "python3"
  },
  "language_info": {
   "codemirror_mode": {
    "name": "ipython",
    "version": 3
   },
   "file_extension": ".py",
   "mimetype": "text/x-python",
   "name": "python",
   "nbconvert_exporter": "python",
   "pygments_lexer": "ipython3",
   "version": "3.8.8"
  }
 },
 "nbformat": 4,
 "nbformat_minor": 5
}
